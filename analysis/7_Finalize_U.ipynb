{
 "cells": [
  {
   "cell_type": "markdown",
   "id": "158ac6d7",
   "metadata": {},
   "source": [
    "# Finalze U\n",
    "For Extended Data Figure 5d\n",
    "\n",
    "This code was used to compute U with optimised SMAF parameters on entire training dataset.\n",
    "\n",
    "## Inport libraries"
   ]
  },
  {
   "cell_type": "code",
   "execution_count": 1,
   "id": "1030d592",
   "metadata": {},
   "outputs": [],
   "source": [
    "# Import libraries\n",
    "import anndata as ad\n",
    "from pathlib import Path\n",
    "import os\n",
    "import numpy as np\n",
    "import pandas as pd\n",
    "import errno"
   ]
  },
  {
   "cell_type": "markdown",
   "id": "6ec2c1f8",
   "metadata": {},
   "source": [
    "## setup"
   ]
  },
  {
   "cell_type": "code",
   "execution_count": 2,
   "id": "f1b502b1",
   "metadata": {},
   "outputs": [],
   "source": [
    "# Import system libraries to configure code directory as module\n",
    "from os.path import dirname, abspath, join\n",
    "import sys\n",
    "\n",
    "# Find code directory relative to our directory\n",
    "THIS_DIR = dirname('__file__')\n",
    "CODE_DIR = abspath(join(THIS_DIR, '..', 'code'))\n",
    "# Add code directory to systems paths\n",
    "sys.path.append(CODE_DIR)"
   ]
  },
  {
   "cell_type": "code",
   "execution_count": 3,
   "id": "65bc1346",
   "metadata": {},
   "outputs": [],
   "source": [
    "# Import fnc.\n",
    "from smaf import smaf\n",
    "from utils import analyse_U_W, analyse_decoding, is_valid_file"
   ]
  },
  {
   "cell_type": "markdown",
   "id": "a379a2ab",
   "metadata": {},
   "source": [
    "## Input data and specify output"
   ]
  },
  {
   "cell_type": "code",
   "execution_count": 4,
   "id": "8086ace9",
   "metadata": {},
   "outputs": [],
   "source": [
    "# Read sce data\n",
    "data_path = Path('/mnt/projects/data')\n",
    "sce_path = Path(os.path.join(data_path,'0_preprocess_th184/processed/sce.h5ad'))\n",
    "\n",
    "EXP_name = 'publication/7_Finalize_U'\n",
    "out_path = Path(os.path.join(data_path, EXP_name))\n",
    "U_path = Path(os.path.join(out_path, \"U\"))\n",
    "# Create output directory if it doesn't exist\n",
    "out_path.mkdir(parents=True, exist_ok=True)\n",
    "U_path.mkdir(parents=True, exist_ok=True)"
   ]
  },
  {
   "cell_type": "code",
   "execution_count": 5,
   "id": "e26e33fe",
   "metadata": {},
   "outputs": [],
   "source": [
    "# Check that input files/dictionary exist\n",
    "if not is_valid_file(sce_path, ['.h5ad']):\n",
    "    # If file is not found, throw error\n",
    "    raise FileNotFoundError(errno.ENOENT, os.strerror(errno.ENOENT),sce_path)"
   ]
  },
  {
   "cell_type": "code",
   "execution_count": 6,
   "id": "35a56117",
   "metadata": {
    "scrolled": true
   },
   "outputs": [],
   "source": [
    "# read sce \n",
    "sce = ad.read_h5ad(sce_path)\n",
    "# subset sce with relavant markers\n",
    "sce = sce[:, ~sce.var.index.isin([\"panCK\",\"CD15\", \"CD11c\", \"CD56\"])]\n",
    "# remove tonsil 1, 2 to reduce non-tumor immune cells\n",
    "sce = sce[~sce.obs.tissue.isin([\"Tonsil1\",\"Tonsil2\"]),:]"
   ]
  },
  {
   "cell_type": "markdown",
   "id": "04749ebb",
   "metadata": {},
   "source": [
    "## Set SMAF parameters"
   ]
  },
  {
   "cell_type": "code",
   "execution_count": 7,
   "id": "f5992b92",
   "metadata": {},
   "outputs": [],
   "source": [
    "## Set params for U\n",
    "# set variables\n",
    "d = 80\n",
    "maxItr = 100\n",
    "nthread = -1\n",
    "\n",
    "# main parameter\n",
    "methodW = 'lasso'\n",
    "ldaU = 0.02\n",
    "\n",
    "# methodW specific parameter\n",
    "nblocksW_lasso = 1\n",
    "ldaW = 0.02"
   ]
  },
  {
   "cell_type": "markdown",
   "id": "7eee31d6",
   "metadata": {},
   "source": [
    "## Perform SMAF"
   ]
  },
  {
   "cell_type": "code",
   "execution_count": 8,
   "id": "4ac05f31",
   "metadata": {
    "scrolled": true
   },
   "outputs": [
    {
     "name": "stdout",
     "output_type": "stream",
     "text": [
      "Initialized U, W with NMF, SMAF maxItr =  100\n"
     ]
    }
   ],
   "source": [
    "# use all cells from traiing data for final U\n",
    "X_trainingU = sce\n",
    "\n",
    "\n",
    "# calc U\n",
    "U,W,X = smaf(X_trainingU,d,maxItr,methodW,ldaU, ldaW=ldaW, THREADS=nthread,  X_normalization='paper_norm',\n",
    "          num_blocks_W=nblocksW_lasso, num_blocks_U=1, layer=None, Normalize_U=True, saveItr=False) \n",
    "# get SMAF results\n",
    "res_U, coln_U = analyse_U_W(U, W, X)\n",
    "\n",
    "\n",
    "    \n"
   ]
  },
  {
   "cell_type": "markdown",
   "id": "ddfe402c",
   "metadata": {},
   "source": [
    "## Save results"
   ]
  },
  {
   "cell_type": "code",
   "execution_count": 9,
   "id": "f17caab1",
   "metadata": {},
   "outputs": [],
   "source": [
    "# save U \n",
    "pd.DataFrame(U, columns=list(range(1, U.shape[1]+1)),index=sce.var_names).to_csv(\n",
    "    os.path.join(U_path, 'U_final.csv'))\n",
    "\n",
    "# Transform U results into DF\n",
    "df = pd.DataFrame(res_U).T ## .T added since it's 1D DF\n",
    "df.columns = coln_U\n",
    "# save U results as csv\n",
    "df.to_csv(path_or_buf=os.path.join(out_path, 'result_U.csv'))\n",
    "\n"
   ]
  },
  {
   "cell_type": "code",
   "execution_count": null,
   "id": "6742ebe4",
   "metadata": {
    "scrolled": false
   },
   "outputs": [],
   "source": []
  },
  {
   "cell_type": "code",
   "execution_count": null,
   "id": "1151da36",
   "metadata": {},
   "outputs": [],
   "source": [
    "\n"
   ]
  },
  {
   "cell_type": "code",
   "execution_count": null,
   "id": "e6be7f6c",
   "metadata": {},
   "outputs": [],
   "source": []
  },
  {
   "cell_type": "code",
   "execution_count": null,
   "id": "77af9dd7",
   "metadata": {},
   "outputs": [],
   "source": []
  },
  {
   "cell_type": "code",
   "execution_count": null,
   "id": "4e4777a0",
   "metadata": {},
   "outputs": [],
   "source": []
  }
 ],
 "metadata": {
  "kernelspec": {
   "display_name": "test_cisi_imc_env",
   "language": "python",
   "name": "test_cisi_imc_env"
  },
  "language_info": {
   "codemirror_mode": {
    "name": "ipython",
    "version": 3
   },
   "file_extension": ".py",
   "mimetype": "text/x-python",
   "name": "python",
   "nbconvert_exporter": "python",
   "pygments_lexer": "ipython3",
   "version": "3.10.9"
  }
 },
 "nbformat": 4,
 "nbformat_minor": 5
}
