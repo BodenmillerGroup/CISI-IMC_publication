{
 "cells": [
  {
   "cell_type": "markdown",
   "id": "27750a32",
   "metadata": {},
   "source": [
    "# Finalize SMAF parameters\n",
    "\n",
    "For Extended Data Fig. 5ab\n",
    "\n",
    "This code runs SMAF and simulates decompression on random 200As for all 14 tissue onditions and for all 12 SMAF parameter conditions. Different tissues were tested to see the performance stability across tissues.\n",
    "\n",
    "\n",
    "## Import Libraries"
   ]
  },
  {
   "cell_type": "code",
   "execution_count": 1,
   "id": "1030d592",
   "metadata": {},
   "outputs": [],
   "source": [
    "# Import libraries\n",
    "import anndata as ad\n",
    "from pathlib import Path\n",
    "import os\n",
    "import numpy as np\n",
    "import pandas as pd\n",
    "import errno\n",
    "import itertools"
   ]
  },
  {
   "cell_type": "markdown",
   "id": "4d7f059a",
   "metadata": {},
   "source": [
    "## setup"
   ]
  },
  {
   "cell_type": "code",
   "execution_count": 2,
   "id": "bf332338",
   "metadata": {},
   "outputs": [],
   "source": [
    "# Import system libraries to configure code directory as module\n",
    "from os.path import dirname, abspath, join\n",
    "import sys\n",
    "\n",
    "# Find code directory relative to our directory\n",
    "THIS_DIR = dirname('__file__')\n",
    "CODE_DIR = abspath(join(THIS_DIR, '..', 'code'))\n",
    "# Add code directory to systems paths\n",
    "sys.path.append(CODE_DIR)"
   ]
  },
  {
   "cell_type": "code",
   "execution_count": 3,
   "id": "65bc1346",
   "metadata": {},
   "outputs": [],
   "source": [
    "# Import dictionary training fnc. (smaf)\n",
    "from smaf import smaf\n",
    "from utils import analyse_U_W, produce_random_As, analyse_decoding, is_valid_file\n",
    "from simulate_A import simulate_A"
   ]
  },
  {
   "cell_type": "markdown",
   "id": "c3939d66",
   "metadata": {},
   "source": [
    "## input data and specify output"
   ]
  },
  {
   "cell_type": "code",
   "execution_count": 4,
   "id": "8086ace9",
   "metadata": {},
   "outputs": [],
   "source": [
    "# Read sce data\n",
    "data_path = Path('/mnt/projects/data')\n",
    "sce_path = Path(os.path.join(data_path,'0_preprocess_th184/processed/sce.h5ad'))\n",
    "\n",
    "EXP_name = 'publication/6_Finalize_SMAF_parameters'\n",
    "out_path = Path(os.path.join(data_path, EXP_name))\n",
    "U_path = Path(os.path.join(out_path, \"U\"))\n",
    "A_path = Path(os.path.join(out_path, \"A\"))\n",
    "# Create output directory if it doesn't exist\n",
    "out_path.mkdir(parents=True, exist_ok=True)\n",
    "U_path.mkdir(parents=True, exist_ok=True)\n",
    "A_path.mkdir(parents=True, exist_ok=True)"
   ]
  },
  {
   "cell_type": "code",
   "execution_count": 5,
   "id": "e26e33fe",
   "metadata": {},
   "outputs": [],
   "source": [
    "# Check that input files/dictionary exist\n",
    "if not is_valid_file(sce_path, ['.h5ad']):\n",
    "    # If file is not found, throw error\n",
    "    raise FileNotFoundError(errno.ENOENT, os.strerror(errno.ENOENT),sce_path)"
   ]
  },
  {
   "cell_type": "code",
   "execution_count": 6,
   "id": "35a56117",
   "metadata": {
    "scrolled": true
   },
   "outputs": [],
   "source": [
    "# read and subset sce with relavant markers\n",
    "sce = ad.read_h5ad(sce_path)\n",
    "\n",
    "sce = sce[:, ~sce.var.index.isin([\"panCK\",\"CD15\", \"CD11c\", \"CD56\"])]\n",
    "\n",
    "# remove whole slide tonsil 1, 2 to reduce non-tumor immune cells\n",
    "sce = sce[~sce.obs.tissue.isin([\"Tonsil1\",\"Tonsil2\"]),:]"
   ]
  },
  {
   "cell_type": "markdown",
   "id": "e4ac0320",
   "metadata": {},
   "source": [
    "## Set SMAF parameters tested\n",
    "d: initial n. of modules in U\n",
    "\n",
    "maxItr: N. of iteration for each SMAF run\n",
    "\n",
    "nthread: N. of thread\n",
    "\n",
    "l_methodW: algorithm for calculating W. \"lasso\" or \"omp_fixedk\"\n",
    "\n",
    "l_ldaU: error tolerance coefficient when calculating U.\n",
    "\n",
    "l_ldaW: error tolerance coefficient when calculating W. (only for lasso)\n",
    "\n",
    "l_nblocksW_lasso: N. of blocks to separate cells when claculating W. (only for lasso)\n",
    "\n",
    "l_k_fixedk: Sparsity of W (N. of non-zero input per cell in W) (only for omp_fixedk)"
   ]
  },
  {
   "cell_type": "code",
   "execution_count": 7,
   "id": "f5992b92",
   "metadata": {},
   "outputs": [],
   "source": [
    "## prepare Us with different param\n",
    "# set variables\n",
    "d = 80\n",
    "maxItr = 5#100\n",
    "nthread = -1\n",
    "\n",
    "# main iterator\n",
    "l_methodW = ['lasso','omp_fixedk']\n",
    "l_ldaU = [0.2,0.02]\n",
    "\n",
    "# methodW specific iterator\n",
    "l_nblocksW_lasso = [1, 200]\n",
    "l_ldaW = [0.2,0.02]\n",
    "l_k_fixedk = [1,3] "
   ]
  },
  {
   "cell_type": "markdown",
   "id": "0aedd32e",
   "metadata": {},
   "source": [
    "## set ROIs (tissues) tested\n",
    "Other than specific tissues, we added \"1\" and \"2\" for taking first or second ROI from all tissues, respectively. \"percent25\" takes random 25% of cells. Additonal ROIs can be used to assess general performance of different SMAF parameter conditions."
   ]
  },
  {
   "cell_type": "code",
   "execution_count": 8,
   "id": "96460dbd",
   "metadata": {
    "scrolled": true
   },
   "outputs": [],
   "source": [
    "# set ROIs for training U and A\n",
    "ROI_list = sce.obs.tissue.unique().tolist() # All tissues\n",
    "ROI_list.extend([\"1\",\"2\",\"percent25\"])      # Add first/second ROI for all tissues and 25% random cells"
   ]
  },
  {
   "cell_type": "markdown",
   "id": "8e56d65f",
   "metadata": {},
   "source": [
    "## Produce random 200 As\n",
    "Here we produced random As with maxcomposition of 2\n",
    "\n",
    "n_A_each: n of random As produced per unique L0sum\n",
    "\n",
    "n_L0sum: n of unique L0 sum. Defined number of L0sum will be selected in desending order from the max L0sum.\n",
    "\n",
    "g: no of total genes\n",
    "\n",
    "m: n of composite channels\n",
    "\n",
    "n: [min,max] of channels per gene\n",
    "\n",
    "d_thresh: distance threshold per gene"
   ]
  },
  {
   "cell_type": "code",
   "execution_count": 9,
   "id": "36aa01c3",
   "metadata": {},
   "outputs": [
    {
     "name": "stdout",
     "output_type": "stream",
     "text": [
      "Random 4 As with L0sum between 29 and 32. 16 genes into 8 channels, max 2 channels per gene\n",
      "6 2\n"
     ]
    }
   ],
   "source": [
    "# produce Phi with maxcomposition of 2\n",
    "Phi = produce_random_As(n_A_each=1, n_L0sum=4, m=8, n=(1,2), d_thresh=0.7, g=16)#50\n"
   ]
  },
  {
   "cell_type": "code",
   "execution_count": 10,
   "id": "186c3514",
   "metadata": {},
   "outputs": [],
   "source": [
    "# save As\n",
    "np.save(os.path.join(A_path,\"Phi.npy\"),np.array(Phi))"
   ]
  },
  {
   "cell_type": "markdown",
   "id": "b4efc9ed",
   "metadata": {},
   "source": [
    "## Run SMAF and decompression simulation\n",
    "For each tissue condition, Us were calculated for all SMAF parameter condition.\n",
    "\n",
    "For each U, decompression was simulated using 200 random As"
   ]
  },
  {
   "cell_type": "code",
   "execution_count": 11,
   "id": "0df20294",
   "metadata": {},
   "outputs": [
    {
     "name": "stdout",
     "output_type": "stream",
     "text": [
      "tonsilW\n",
      "Initialized U, W with NMF, SMAF maxItr =  5\n",
      "Initialized U, W with NMF, SMAF maxItr =  5\n",
      "Initialized U, W with NMF, SMAF maxItr =  5\n",
      "Initialized U, W with NMF, SMAF maxItr =  5\n",
      "Initialized U, W with NMF, SMAF maxItr =  5\n",
      "Initialized U, W with NMF, SMAF maxItr =  5\n",
      "Initialized U, W with NMF, SMAF maxItr =  5\n",
      "Initialized U, W with NMF, SMAF maxItr =  5\n",
      "Initialized U, W with NMF, SMAF maxItr =  5\n",
      "Initialized U, W with NMF, SMAF maxItr =  5\n",
      "Initialized U, W with NMF, SMAF maxItr =  5\n",
      "Initialized U, W with NMF, SMAF maxItr =  5\n"
     ]
    },
    {
     "name": "stderr",
     "output_type": "stream",
     "text": [
      "/home/ubuntu/miniconda3/envs/test_cisi_imc_env/lib/python3.10/site-packages/scipy/spatial/distance.py:622: RuntimeWarning: invalid value encountered in double_scalars\n",
      "  dist = 1.0 - uv / np.sqrt(uu * vv)\n",
      "/home/ubuntu/Git/CISI_IMC_publication/for_publication/code/utils.py:338: RuntimeWarning: invalid value encountered in divide\n",
      "  Anorm = (A.T/np.linalg.norm(A, axis=1)).T\n",
      "/home/ubuntu/miniconda3/envs/test_cisi_imc_env/lib/python3.10/site-packages/numpy/lib/function_base.py:518: RuntimeWarning: Mean of empty slice.\n",
      "  avg = a.mean(axis, **keepdims_kw)\n",
      "/home/ubuntu/miniconda3/envs/test_cisi_imc_env/lib/python3.10/site-packages/numpy/core/_methods.py:190: RuntimeWarning: invalid value encountered in double_scalars\n",
      "  ret = ret.dtype.type(ret / rcount)\n"
     ]
    },
    {
     "name": "stdout",
     "output_type": "stream",
     "text": [
      "1\n",
      "Initialized U, W with NMF, SMAF maxItr =  5\n",
      "Initialized U, W with NMF, SMAF maxItr =  5\n",
      "Initialized U, W with NMF, SMAF maxItr =  5\n",
      "Initialized U, W with NMF, SMAF maxItr =  5\n",
      "Initialized U, W with NMF, SMAF maxItr =  5\n",
      "Initialized U, W with NMF, SMAF maxItr =  5\n",
      "Initialized U, W with NMF, SMAF maxItr =  5\n",
      "Initialized U, W with NMF, SMAF maxItr =  5\n",
      "Initialized U, W with NMF, SMAF maxItr =  5\n",
      "Initialized U, W with NMF, SMAF maxItr =  5\n",
      "Initialized U, W with NMF, SMAF maxItr =  5\n",
      "Initialized U, W with NMF, SMAF maxItr =  5\n"
     ]
    },
    {
     "name": "stderr",
     "output_type": "stream",
     "text": [
      "/home/ubuntu/miniconda3/envs/test_cisi_imc_env/lib/python3.10/site-packages/scipy/spatial/distance.py:622: RuntimeWarning: invalid value encountered in double_scalars\n",
      "  dist = 1.0 - uv / np.sqrt(uu * vv)\n"
     ]
    },
    {
     "name": "stdout",
     "output_type": "stream",
     "text": [
      "2\n",
      "Initialized U, W with NMF, SMAF maxItr =  5\n",
      "Initialized U, W with NMF, SMAF maxItr =  5\n",
      "Initialized U, W with NMF, SMAF maxItr =  5\n",
      "Initialized U, W with NMF, SMAF maxItr =  5\n",
      "Initialized U, W with NMF, SMAF maxItr =  5\n",
      "Initialized U, W with NMF, SMAF maxItr =  5\n",
      "Initialized U, W with NMF, SMAF maxItr =  5\n",
      "Initialized U, W with NMF, SMAF maxItr =  5\n",
      "Initialized U, W with NMF, SMAF maxItr =  5\n",
      "Initialized U, W with NMF, SMAF maxItr =  5\n",
      "Initialized U, W with NMF, SMAF maxItr =  5\n",
      "Initialized U, W with NMF, SMAF maxItr =  5\n"
     ]
    },
    {
     "name": "stderr",
     "output_type": "stream",
     "text": [
      "/home/ubuntu/miniconda3/envs/test_cisi_imc_env/lib/python3.10/site-packages/scipy/spatial/distance.py:622: RuntimeWarning: invalid value encountered in double_scalars\n",
      "  dist = 1.0 - uv / np.sqrt(uu * vv)\n",
      "/home/ubuntu/Git/CISI_IMC_publication/for_publication/code/utils.py:338: RuntimeWarning: invalid value encountered in divide\n",
      "  Anorm = (A.T/np.linalg.norm(A, axis=1)).T\n",
      "/home/ubuntu/miniconda3/envs/test_cisi_imc_env/lib/python3.10/site-packages/numpy/lib/function_base.py:518: RuntimeWarning: Mean of empty slice.\n",
      "  avg = a.mean(axis, **keepdims_kw)\n",
      "/home/ubuntu/miniconda3/envs/test_cisi_imc_env/lib/python3.10/site-packages/numpy/core/_methods.py:190: RuntimeWarning: invalid value encountered in double_scalars\n",
      "  ret = ret.dtype.type(ret / rcount)\n"
     ]
    },
    {
     "name": "stdout",
     "output_type": "stream",
     "text": [
      "percent25\n",
      "Initialized U, W with NMF, SMAF maxItr =  5\n",
      "Initialized U, W with NMF, SMAF maxItr =  5\n",
      "Initialized U, W with NMF, SMAF maxItr =  5\n",
      "Initialized U, W with NMF, SMAF maxItr =  5\n",
      "Initialized U, W with NMF, SMAF maxItr =  5\n",
      "Initialized U, W with NMF, SMAF maxItr =  5\n",
      "Initialized U, W with NMF, SMAF maxItr =  5\n",
      "Initialized U, W with NMF, SMAF maxItr =  5\n",
      "Initialized U, W with NMF, SMAF maxItr =  5\n",
      "Initialized U, W with NMF, SMAF maxItr =  5\n",
      "Initialized U, W with NMF, SMAF maxItr =  5\n",
      "Initialized U, W with NMF, SMAF maxItr =  5\n"
     ]
    },
    {
     "name": "stderr",
     "output_type": "stream",
     "text": [
      "/home/ubuntu/miniconda3/envs/test_cisi_imc_env/lib/python3.10/site-packages/scipy/spatial/distance.py:622: RuntimeWarning: invalid value encountered in double_scalars\n",
      "  dist = 1.0 - uv / np.sqrt(uu * vv)\n"
     ]
    }
   ],
   "source": [
    "## SMAF params\n",
    "expid = 0 # experiment id. Used to match results and U\n",
    "\n",
    "# Params for simulate A (also for test ROI)\n",
    "nsr = 0   \n",
    "ldaW_dc = 0.02\n",
    "\n",
    "# results container\n",
    "sum_res_U = [] \n",
    "sum_res_A = []\n",
    "genewise_res_A = []\n",
    "\n",
    "# SMAF and decompression simulation\n",
    "for ROI_id, cur_ROI in enumerate(ROI_list[8:]):\n",
    "    print(cur_ROI)\n",
    "    # subset for A and U based on the cur_ROI\n",
    "    if cur_ROI in sce.obs.tissue.unique():\n",
    "        X_trainingA = sce[sce.obs.tissue==cur_ROI,:]\n",
    "    elif cur_ROI in sce.obs.ROI_per_tissue.unique():\n",
    "        X_trainingA = sce[sce.obs.ROI_per_tissue==cur_ROI,:]\n",
    "    elif \"percent\" in cur_ROI:\n",
    "        perc = int(cur_ROI.split(\"percent\")[-1])/100\n",
    "        X_trainingA = sce[np.random.choice(sce.shape[0], int(sce.shape[0]*perc),replace=False),:]\n",
    "    else:\n",
    "        continue\n",
    "    # rest of the cells are for training U\n",
    "    X_trainingU = sce[~sce.obs.index.isin(X_trainingA.obs.index),:]\n",
    "\n",
    "\n",
    "    # initialize U_list per fold\n",
    "    Us = []      \n",
    "    ## SMAF producing U\n",
    "    for (methodW, ldaU) in itertools.product(l_methodW,l_ldaU):\n",
    "        ldaW,k,num_blocks_W = (np.NaN,np.NaN,np.NaN) # initialize sub iterables for saving result. \n",
    "\n",
    "        if methodW == 'lasso':\n",
    "            for ldaW,num_blocks_W in itertools.product(l_ldaW,l_nblocksW_lasso):            \n",
    "                # calc U\n",
    "                U,W,X = smaf(X_trainingU,d,maxItr,methodW,ldaU, ldaW=ldaW,k=k, THREADS=nthread,  X_normalization='paper_norm',\n",
    "                          num_blocks_W=num_blocks_W, num_blocks_U=1, layer=None, Normalize_U=True, saveItr=False) \n",
    "                # get SMAF results\n",
    "                res_U, coln_U = analyse_U_W(U, W, X)\n",
    "                # save U \n",
    "                pd.DataFrame(U, columns=list(range(1, U.shape[1]+1)),index=sce.var_names).to_csv(\n",
    "                    os.path.join(U_path, 'U_expid{:d}.csv'.format(expid)))\n",
    "                # append Us \n",
    "                Us.append(U)    \n",
    "                # append results\n",
    "                res_U.extend([expid, maxItr, methodW, ldaU, num_blocks_W,ldaW,k, cur_ROI ])\n",
    "                coln_U.extend(['expid','maxItr', 'methodW', 'ldaU', 'num_blocks_W','ldaW','k','trainingA_ROI'])\n",
    "                sum_res_U.append(res_U)\n",
    "                expid += 1\n",
    "            \n",
    "        elif methodW == 'omp_fixedk':\n",
    "            for k in l_k_fixedk:\n",
    "                # calc U\n",
    "                U,W,X = smaf(X_trainingU,d,maxItr,methodW,ldaU, ldaW=ldaW,k=k, THREADS=nthread,  X_normalization='paper_norm',\n",
    "                          num_blocks_W=num_blocks_W, num_blocks_U=1, layer=None, Normalize_U=True, saveItr=False) \n",
    "                # get SMAF results\n",
    "                res_U, coln_U = analyse_U_W(U, W, X)\n",
    "                # save U \n",
    "                pd.DataFrame(U, columns=list(range(1, U.shape[1]+1)),index=sce.var_names).to_csv(\n",
    "                    os.path.join(U_path, 'U_expid{:d}.csv'.format(expid)))\n",
    "                # append Us \n",
    "                Us.append(U)    \n",
    "                # append results\n",
    "                res_U.extend([expid, maxItr, methodW, ldaU, num_blocks_W,ldaW,k, cur_ROI ])\n",
    "                coln_U.extend(['expid','maxItr', 'methodW', 'ldaU', 'num_blocks_W','ldaW','k','trainingA_ROI'])\n",
    "                sum_res_U.append(res_U)\n",
    "                expid += 1\n",
    "            \n",
    "        \n",
    "\n",
    "    ## Simulate A        \n",
    "    for cur_u_id, U in enumerate(Us):  \n",
    "        # u_id need to move along fold exp\n",
    "        u_id = cur_u_id + ROI_id*len(Us)\n",
    "        Mincorr = np.array([])\n",
    "        for phi_id, phi in enumerate(Phi):\n",
    "            L0sum = np.linalg.norm(phi,ord = 0, axis = 1).sum()\n",
    "\n",
    "            X, Xhat, W, Y = simulate_A(X_trainingA, U, phi, nsr, decoding_lasso_lda = ldaW_dc,\n",
    "                                 outpath=None, THREADS=-1, layer=None, num_blocks=20)\n",
    "\n",
    "            res_A, coln_A, detail_A = analyse_decoding(phi,U,W,X,Xhat, name=\"\", detail=True)\n",
    "            res_A.extend([u_id,phi_id,L0sum,nsr,ldaW_dc, cur_ROI])\n",
    "            coln_A.extend([\"U_id\", \"A_id\",\"A_L0_sum\",\"inv_SNratio\",\"ldaW_simA\", \"ROI\"])\n",
    "            sum_res_A.append(res_A)\n",
    "            genewise_res_A.append(detail_A[0])\n",
    "\n",
    "            Mincorr = np.append(Mincorr,res_A[1])\n",
    "\n",
    "\n",
    "            if (phi_id+1)%100 == 0:\n",
    "                idx = np.argsort(Mincorr)  # get sorted index\n",
    "                best5 = Mincorr[idx[-5:][::-1]] # Best 5\n",
    "                print(\"current itr: {}, top5 mincorr:\".format(phi_id) ,['{:.3f}'.format(e) for e in best5])\n",
    "\n",
    "\n"
   ]
  },
  {
   "cell_type": "markdown",
   "id": "32127a98",
   "metadata": {},
   "source": [
    "## Save results"
   ]
  },
  {
   "cell_type": "code",
   "execution_count": 12,
   "id": "f17caab1",
   "metadata": {},
   "outputs": [],
   "source": [
    "# Transform U results into DF\n",
    "df = pd.DataFrame(sum_res_U)\n",
    "df.columns = coln_U\n",
    "# save U results as csv\n",
    "df.to_csv(path_or_buf=os.path.join(out_path, 'result_U.csv'))\n",
    "\n",
    "# Transform A results into DF\n",
    "df = pd.DataFrame(sum_res_A)\n",
    "df.columns = coln_A\n",
    "# save A results as csv\n",
    "df.to_csv(path_or_buf=os.path.join(out_path, 'result_A.csv'))\n",
    "\n",
    "\n",
    "# save genewise results as well\n",
    "df = pd.DataFrame(genewise_res_A)\n",
    "df.columns = sce.var.index\n",
    "df.to_csv(path_or_buf=os.path.join(out_path, 'result_A_genewise.csv'))"
   ]
  },
  {
   "cell_type": "code",
   "execution_count": null,
   "id": "6742ebe4",
   "metadata": {
    "scrolled": false
   },
   "outputs": [],
   "source": []
  },
  {
   "cell_type": "code",
   "execution_count": null,
   "id": "e6be7f6c",
   "metadata": {},
   "outputs": [],
   "source": []
  },
  {
   "cell_type": "code",
   "execution_count": null,
   "id": "77af9dd7",
   "metadata": {},
   "outputs": [],
   "source": []
  }
 ],
 "metadata": {
  "kernelspec": {
   "display_name": "test_cisi_imc_env",
   "language": "python",
   "name": "test_cisi_imc_env"
  },
  "language_info": {
   "codemirror_mode": {
    "name": "ipython",
    "version": 3
   },
   "file_extension": ".py",
   "mimetype": "text/x-python",
   "name": "python",
   "nbconvert_exporter": "python",
   "pygments_lexer": "ipython3",
   "version": "3.10.9"
  }
 },
 "nbformat": 4,
 "nbformat_minor": 5
}
