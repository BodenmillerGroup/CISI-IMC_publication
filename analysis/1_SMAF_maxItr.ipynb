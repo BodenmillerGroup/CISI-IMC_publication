{
 "cells": [
  {
   "cell_type": "markdown",
   "id": "4e89bac7",
   "metadata": {},
   "source": [
    "# Check max iteration of SMAF\n",
    "\n",
    "For Extended Data Fig. 1bc\n",
    "\n",
    "This code runs SMAF and saves the results for each SMAF iteration.\n",
    "\n",
    "Additionally, the analysis can be looped over SMAF parameters.\n",
    "See \"Set variables\" for details.\n",
    "\n",
    "\n",
    "## Import Libraries"
   ]
  },
  {
   "cell_type": "code",
   "execution_count": 1,
   "id": "13ef0339",
   "metadata": {
    "scrolled": true
   },
   "outputs": [],
   "source": [
    "# Import libraries\n",
    "import anndata as ad\n",
    "from pathlib import Path\n",
    "import os\n",
    "import numpy as np\n",
    "import pandas as pd\n",
    "import errno\n",
    "import itertools"
   ]
  },
  {
   "cell_type": "markdown",
   "id": "ef93a218",
   "metadata": {},
   "source": [
    "## Setup"
   ]
  },
  {
   "cell_type": "code",
   "execution_count": 2,
   "id": "d8406be3",
   "metadata": {},
   "outputs": [],
   "source": [
    "# Import system libraries to configure code directory as module\n",
    "from os.path import dirname, abspath, join\n",
    "import sys\n",
    "\n",
    "# Find code directory relative to our directory\n",
    "THIS_DIR = dirname('__file__')\n",
    "CODE_DIR = abspath(join(THIS_DIR, '..', 'code'))\n",
    "# Add code directory to systems paths\n",
    "sys.path.append(CODE_DIR)"
   ]
  },
  {
   "cell_type": "code",
   "execution_count": 3,
   "id": "b6baed40",
   "metadata": {},
   "outputs": [],
   "source": [
    "# Import SMAF\n",
    "from smaf import smaf\n",
    "from utils import is_valid_file"
   ]
  },
  {
   "cell_type": "markdown",
   "id": "1027ae59",
   "metadata": {},
   "source": [
    "## Input data"
   ]
  },
  {
   "cell_type": "code",
   "execution_count": 4,
   "id": "eeee0a56",
   "metadata": {},
   "outputs": [],
   "source": [
    "# Read sce data\n",
    "data_path = Path('/mnt/projects/data')\n",
    "sce_path = Path(os.path.join(data_path,'0_tissues_th182/sce/sce.h5ad'))\n",
    "\n",
    "EXP_name = 'publication/1_SMAF_maxItr'\n",
    "out_path = Path(os.path.join(data_path, EXP_name))\n",
    "# Create output directory if it doesn't exist\n",
    "out_path.mkdir(parents=True, exist_ok=True)"
   ]
  },
  {
   "cell_type": "code",
   "execution_count": 5,
   "id": "62c81b13",
   "metadata": {},
   "outputs": [],
   "source": [
    "# Check that input files/dictionary exist\n",
    "if not is_valid_file(sce_path, ['.h5ad']):\n",
    "    # If file is not found, throw error\n",
    "    raise FileNotFoundError(errno.ENOENT, os.strerror(errno.ENOENT),sce_path)"
   ]
  },
  {
   "cell_type": "code",
   "execution_count": 6,
   "id": "8c6704bf",
   "metadata": {},
   "outputs": [
    {
     "name": "stderr",
     "output_type": "stream",
     "text": [
      "/home/ubuntu/miniconda3/envs/test_cisi_imc_env/lib/python3.10/site-packages/anndata/_core/anndata.py:121: ImplicitModificationWarning: Transforming to str index.\n",
      "  warnings.warn(\"Transforming to str index.\", ImplicitModificationWarning)\n"
     ]
    }
   ],
   "source": [
    "# read and subset sce with relavant markers\n",
    "sce = ad.read_h5ad(sce_path)\n",
    "\n",
    "sce = sce[:, ~sce.var.index.isin([\"panCK\",\"CD15\", \"CD11c\", \"CD56\"])]"
   ]
  },
  {
   "cell_type": "markdown",
   "id": "a25a8fd0",
   "metadata": {},
   "source": [
    "## Set variables\n",
    "\n",
    "Input as a list for main iterator and methodW specific iterator to loop through.\n",
    "\n",
    "d: initial n. of modules in U\n",
    "\n",
    "maxItr: N. of iteration for each SMAF run\n",
    "\n",
    "nthread: N. of thread\n",
    "\n",
    "### main iterator\n",
    "l_rep: N. of replicates\n",
    "\n",
    "l_methodW: algorithm for calculating W. \"lasso\" or \"omp_fixedk\"\n",
    "\n",
    "l_ldaU: ldaU, error tolerance coefficient when calculating U.\n",
    "\n",
    "\n",
    "### methodW specific iterator\n",
    "#### only for lasso\n",
    "l_ldaW: ldaW, error tolerance coefficient when calculating W.\n",
    "\n",
    "l_nblocksW: N. of blocks to separate cells when claculating W. \n",
    "#### only for omp_fixedk\n",
    "l_k: Sparsity of W (N. of non-zero input per cell in W)\n",
    "\n",
    "\n"
   ]
  },
  {
   "cell_type": "code",
   "execution_count": 7,
   "id": "2d710790",
   "metadata": {},
   "outputs": [],
   "source": [
    "# set variables\n",
    "d = 80         # initial n. of modules in U\n",
    "maxItr =  100  # N. of iteration for each SMAF run\n",
    "nthread = -1   # N. of thread\n",
    "\n",
    "# main iterator\n",
    "l_rep = range(1)                         # N. of replicates\n",
    "l_methodW = ['lasso','omp_fixedk']       # algorithm for calculating W. \"lasso\" or \"omp_fixedk\"\n",
    "l_ldaU = [0.3,0.2,0.1,0.05,0.02,0.005]   # ldaU\n",
    "\n",
    "\n",
    "# methodW specific iterator\n",
    "## only for lasso\n",
    "l_ldaW = [0.2,0.02]#[0.3,0.2,0.1,0.05,0.02,0.005] # ldaW  \n",
    "l_nblocksW = [1,20]#[1,20,200,2000]           # N. of blocks to separate cells when claculating W \n",
    "## only for omp_fixedk\n",
    "l_k = [1,2,3,4]                        # Sparsity of W (N. of non-zero input per cell in W)\n",
    "\n"
   ]
  },
  {
   "cell_type": "markdown",
   "id": "60f1e469",
   "metadata": {},
   "source": [
    "## Run SMAF"
   ]
  },
  {
   "cell_type": "code",
   "execution_count": 8,
   "id": "5db1fa20",
   "metadata": {
    "scrolled": true
   },
   "outputs": [
    {
     "name": "stdout",
     "output_type": "stream",
     "text": [
      "CurrentItr:1/12 Rep:0,methodW:lasso,ldaU:0.3\n",
      "Initialized U, W with NMF, SMAF maxItr =  100\n",
      "Initialized U, W with NMF, SMAF maxItr =  100\n",
      "Initialized U, W with NMF, SMAF maxItr =  100\n",
      "Initialized U, W with NMF, SMAF maxItr =  100\n",
      "CurrentItr:2/12 Rep:0,methodW:lasso,ldaU:0.2\n",
      "Initialized U, W with NMF, SMAF maxItr =  100\n",
      "Initialized U, W with NMF, SMAF maxItr =  100\n",
      "Initialized U, W with NMF, SMAF maxItr =  100\n",
      "Initialized U, W with NMF, SMAF maxItr =  100\n",
      "CurrentItr:3/12 Rep:0,methodW:lasso,ldaU:0.1\n",
      "Initialized U, W with NMF, SMAF maxItr =  100\n",
      "Initialized U, W with NMF, SMAF maxItr =  100\n",
      "Initialized U, W with NMF, SMAF maxItr =  100\n",
      "Initialized U, W with NMF, SMAF maxItr =  100\n",
      "CurrentItr:4/12 Rep:0,methodW:lasso,ldaU:0.05\n",
      "Initialized U, W with NMF, SMAF maxItr =  100\n",
      "Initialized U, W with NMF, SMAF maxItr =  100\n",
      "Initialized U, W with NMF, SMAF maxItr =  100\n",
      "Initialized U, W with NMF, SMAF maxItr =  100\n",
      "CurrentItr:5/12 Rep:0,methodW:lasso,ldaU:0.02\n",
      "Initialized U, W with NMF, SMAF maxItr =  100\n",
      "Initialized U, W with NMF, SMAF maxItr =  100\n",
      "Initialized U, W with NMF, SMAF maxItr =  100\n",
      "Initialized U, W with NMF, SMAF maxItr =  100\n",
      "CurrentItr:6/12 Rep:0,methodW:lasso,ldaU:0.005\n",
      "Initialized U, W with NMF, SMAF maxItr =  100\n",
      "Initialized U, W with NMF, SMAF maxItr =  100\n",
      "Initialized U, W with NMF, SMAF maxItr =  100\n",
      "Initialized U, W with NMF, SMAF maxItr =  100\n",
      "CurrentItr:7/12 Rep:0,methodW:omp_fixedk,ldaU:0.3\n",
      "Initialized U, W with NMF, SMAF maxItr =  100\n",
      "Initialized U, W with NMF, SMAF maxItr =  100\n",
      "Initialized U, W with NMF, SMAF maxItr =  100\n",
      "Initialized U, W with NMF, SMAF maxItr =  100\n",
      "CurrentItr:8/12 Rep:0,methodW:omp_fixedk,ldaU:0.2\n",
      "Initialized U, W with NMF, SMAF maxItr =  100\n",
      "Initialized U, W with NMF, SMAF maxItr =  100\n",
      "Initialized U, W with NMF, SMAF maxItr =  100\n",
      "Initialized U, W with NMF, SMAF maxItr =  100\n",
      "CurrentItr:9/12 Rep:0,methodW:omp_fixedk,ldaU:0.1\n",
      "Initialized U, W with NMF, SMAF maxItr =  100\n",
      "Initialized U, W with NMF, SMAF maxItr =  100\n",
      "Initialized U, W with NMF, SMAF maxItr =  100\n",
      "Initialized U, W with NMF, SMAF maxItr =  100\n",
      "CurrentItr:10/12 Rep:0,methodW:omp_fixedk,ldaU:0.05\n",
      "Initialized U, W with NMF, SMAF maxItr =  100\n",
      "Initialized U, W with NMF, SMAF maxItr =  100\n",
      "Initialized U, W with NMF, SMAF maxItr =  100\n",
      "Initialized U, W with NMF, SMAF maxItr =  100\n",
      "CurrentItr:11/12 Rep:0,methodW:omp_fixedk,ldaU:0.02\n",
      "Initialized U, W with NMF, SMAF maxItr =  100\n",
      "Initialized U, W with NMF, SMAF maxItr =  100\n",
      "Initialized U, W with NMF, SMAF maxItr =  100\n",
      "Initialized U, W with NMF, SMAF maxItr =  100\n",
      "CurrentItr:12/12 Rep:0,methodW:omp_fixedk,ldaU:0.005\n",
      "Initialized U, W with NMF, SMAF maxItr =  100\n",
      "Initialized U, W with NMF, SMAF maxItr =  100\n",
      "Initialized U, W with NMF, SMAF maxItr =  100\n",
      "Initialized U, W with NMF, SMAF maxItr =  100\n"
     ]
    }
   ],
   "source": [
    "# prepare results container\n",
    "sum_res = [] # results\n",
    "cond = [] # conditions\n",
    "\n",
    "# set total no of iteration for printing the progress\n",
    "totalitr = len(list(l_rep))*len(l_methodW)*len(l_ldaU)\n",
    "\n",
    "# run SMAF\n",
    "for itrid, (replicate, methodW, ldaU) in enumerate(itertools.product(l_rep,l_methodW,l_ldaU)):\n",
    "    print('CurrentItr:{}/{} Rep:{},methodW:{},ldaU:{}'.format(itrid+1,totalitr,replicate, methodW, ldaU))\n",
    "    ldaW,k,num_blocks_W = (np.NaN,np.NaN,np.NaN) # initialize sub iterables for saving result. \n",
    "    if methodW == 'lasso':\n",
    "        for ldaW,num_blocks_W in itertools.product(l_ldaW,l_nblocksW):            \n",
    "            U,W,X, res, coln = smaf(sce,d,maxItr,methodW,ldaU, ldaW=ldaW, THREADS=nthread,  X_normalization='paper_norm',\n",
    "              num_blocks_W=num_blocks_W, num_blocks_U=1, layer=None, Normalize_U=True, saveItr=True)    \n",
    "            sum_res.extend(res)\n",
    "            cond.extend([[ i, replicate, methodW, ldaU, num_blocks_W,ldaW,k] for i in range(maxItr)])\n",
    "    elif methodW == 'omp_fixedk':\n",
    "        for k in l_k:\n",
    "            U,W,X, res, coln = smaf(sce,d,maxItr,methodW,ldaU, k=k, THREADS=nthread,  X_normalization='paper_norm',\n",
    "              num_blocks_W=num_blocks_W, num_blocks_U=1, layer=None, Normalize_U=True, saveItr=True) \n",
    "            sum_res.extend(res)\n",
    "            cond.extend([[ i, replicate, methodW, ldaU, num_blocks_W,ldaW,k] for i in range(maxItr)])\n",
    "\n"
   ]
  },
  {
   "cell_type": "markdown",
   "id": "d6e6049f",
   "metadata": {},
   "source": [
    "## Save results"
   ]
  },
  {
   "cell_type": "code",
   "execution_count": 9,
   "id": "a86c20b2",
   "metadata": {},
   "outputs": [],
   "source": [
    "# Transform results into DF\n",
    "cond = pd.DataFrame(cond)\n",
    "cond.columns = ['iteration', 'replicate', 'methodW', 'ldaU', 'num_blocks_W','ldaW','k']\n",
    "sum_res = pd.DataFrame(sum_res)\n",
    "sum_res.columns = coln"
   ]
  },
  {
   "cell_type": "code",
   "execution_count": 10,
   "id": "627d822e",
   "metadata": {
    "scrolled": true
   },
   "outputs": [],
   "source": [
    "# combine df results and conditions\n",
    "df = sum_res.join(cond)"
   ]
  },
  {
   "cell_type": "code",
   "execution_count": 11,
   "id": "7939fd5a",
   "metadata": {},
   "outputs": [],
   "source": [
    "# save results as csv\n",
    "df.to_csv(path_or_buf=os.path.join(out_path, 'result.csv'))"
   ]
  }
 ],
 "metadata": {
  "kernelspec": {
   "display_name": "test_cisi_imc_env",
   "language": "python",
   "name": "test_cisi_imc_env"
  },
  "language_info": {
   "codemirror_mode": {
    "name": "ipython",
    "version": 3
   },
   "file_extension": ".py",
   "mimetype": "text/x-python",
   "name": "python",
   "nbconvert_exporter": "python",
   "pygments_lexer": "ipython3",
   "version": "3.10.9"
  }
 },
 "nbformat": 4,
 "nbformat_minor": 5
}
