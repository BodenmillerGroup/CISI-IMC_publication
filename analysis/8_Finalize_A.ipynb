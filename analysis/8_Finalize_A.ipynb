{
 "cells": [
  {
   "cell_type": "markdown",
   "id": "4b5dae74",
   "metadata": {},
   "source": [
    "# Finalize A\n",
    "For Extended Data Figure 6. To create Extended Data Figure 6a, this code needs to be run with number of composite channels of 7, 8, and 9.\n",
    "\n",
    "This code simulates decompression with random As and selects the best A in2 rounds of evaluation.\n",
    "\n",
    "1st round: 4-fold simluaiton using 75% of cells for training U with finalized SMAF parameters and 25% of cells for simulating decpompression with 2000 random As each fold. Selected 50 As with best \"minimum protein correlation\" for each fold. In total 200 As were selected.\n",
    "\n",
    "2nd round: Another 4-fold simulation with fixed 200As from st round. each A's performance was simulated 4-fold, so its mean performance (\"minimum protein correlation\") over 4-fold experments was used for selecting the best A.\n",
    "\n"
   ]
  },
  {
   "cell_type": "code",
   "execution_count": 1,
   "id": "1030d592",
   "metadata": {},
   "outputs": [],
   "source": [
    "# Import libraries\n",
    "import anndata as ad\n",
    "from pathlib import Path\n",
    "import os\n",
    "import numpy as np\n",
    "import pandas as pd\n",
    "import errno"
   ]
  },
  {
   "cell_type": "markdown",
   "id": "2678bfa7",
   "metadata": {},
   "source": [
    "## setup"
   ]
  },
  {
   "cell_type": "code",
   "execution_count": 2,
   "id": "bf332338",
   "metadata": {},
   "outputs": [],
   "source": [
    "# Import system libraries to configure code directory as module\n",
    "from os.path import dirname, abspath, join\n",
    "import sys\n",
    "\n",
    "# Find code directory relative to our directory\n",
    "THIS_DIR = dirname('__file__')\n",
    "CODE_DIR = abspath(join(THIS_DIR, '..', 'code'))\n",
    "# Add code directory to systems paths\n",
    "sys.path.append(CODE_DIR)"
   ]
  },
  {
   "cell_type": "code",
   "execution_count": 3,
   "id": "65bc1346",
   "metadata": {},
   "outputs": [],
   "source": [
    "# Import fnc.\n",
    "from smaf import smaf\n",
    "from utils import analyse_U_W, analyse_decoding, produce_random_As, is_valid_file\n",
    "from simulate_A import simulate_A"
   ]
  },
  {
   "cell_type": "markdown",
   "id": "18f3bc62",
   "metadata": {},
   "source": [
    "## Input data and specify output \n",
    "### ! specify the number of composite channel (\"ncch\") in the begining so that results for different \"ncch\" will be saved into separate subfolders"
   ]
  },
  {
   "cell_type": "code",
   "execution_count": 4,
   "id": "681c19a3",
   "metadata": {},
   "outputs": [],
   "source": [
    "# Specify the number of composite channels\n",
    "ncch = 9"
   ]
  },
  {
   "cell_type": "code",
   "execution_count": 5,
   "id": "8086ace9",
   "metadata": {},
   "outputs": [],
   "source": [
    "# Read sce data\n",
    "data_path = Path('/mnt/projects/data')\n",
    "sce_path = Path(os.path.join(data_path,'0_preprocess_th184/processed/sce.h5ad'))\n",
    "\n",
    "EXP_name = 'publication/8_Finalize_A_16_to_{:d}'.format(ncch)\n",
    "out_path = Path(os.path.join(data_path, EXP_name))\n",
    "U_path = Path(os.path.join(out_path, \"U\"))\n",
    "A_path = Path(os.path.join(out_path, \"A\"))\n",
    "# Create output directory if it doesn't exist\n",
    "out_path.mkdir(parents=True, exist_ok=True)\n",
    "U_path.mkdir(parents=True, exist_ok=True)\n",
    "A_path.mkdir(parents=True, exist_ok=True)"
   ]
  },
  {
   "cell_type": "code",
   "execution_count": 6,
   "id": "e26e33fe",
   "metadata": {},
   "outputs": [],
   "source": [
    "# Check that input files/dictionary exist\n",
    "if not is_valid_file(sce_path, ['.h5ad']):\n",
    "    # If file is not found, throw error\n",
    "    raise FileNotFoundError(errno.ENOENT, os.strerror(errno.ENOENT),sce_path)"
   ]
  },
  {
   "cell_type": "code",
   "execution_count": 7,
   "id": "35a56117",
   "metadata": {
    "scrolled": true
   },
   "outputs": [],
   "source": [
    "# read sce \n",
    "sce = ad.read_h5ad(sce_path)\n",
    "# subset sce with relavant markers\n",
    "sce = sce[:, ~sce.var.index.isin([\"panCK\",\"CD15\", \"CD11c\", \"CD56\"])]\n",
    "# remove tonsil 1, 2 to reduce non-tumor immune cells\n",
    "sce = sce[~sce.obs.tissue.isin([\"Tonsil1\",\"Tonsil2\"]),:]"
   ]
  },
  {
   "cell_type": "markdown",
   "id": "3a5911ff",
   "metadata": {},
   "source": [
    "## Set SMAF parameters"
   ]
  },
  {
   "cell_type": "code",
   "execution_count": 8,
   "id": "f5992b92",
   "metadata": {},
   "outputs": [],
   "source": [
    "## Set params for U\n",
    "# set variables\n",
    "d = 80\n",
    "maxItr = 5#100\n",
    "nthread = -1\n",
    "\n",
    "# main parameter\n",
    "methodW = 'lasso'\n",
    "ldaU = 0.02\n",
    "\n",
    "# methodW specific parameter\n",
    "nblocksW_lasso = 1\n",
    "ldaW = 0.02"
   ]
  },
  {
   "cell_type": "markdown",
   "id": "d6cf590e",
   "metadata": {},
   "source": [
    "## Set parameters for random As\n",
    "Here we produced random As with maxcomposition of 2\n",
    "\n",
    "n_A_each: n of random As produced per unique L0sum\n",
    "\n",
    "n_L0sum: n of unique L0 sum. Defined number of L0sum will be selected in desending order from the max L0sum.\n",
    "\n",
    "g: no of total genes\n",
    "\n",
    "m: n of composite channels \n",
    "\n",
    "n: [min,max] of channels per gene\n",
    "\n",
    "d_thresh: distance threshold per gene"
   ]
  },
  {
   "cell_type": "code",
   "execution_count": 9,
   "id": "3a2c6115",
   "metadata": {},
   "outputs": [
    {
     "name": "stdout",
     "output_type": "stream",
     "text": [
      "Random 20 As with L0sum between 29 and 32. 16 genes into 9 channels, max 2 channels per gene\n"
     ]
    }
   ],
   "source": [
    "## set params for random As\n",
    "n_A_each = 5#500   # n of random As produced per unique L0sum\n",
    "n_L0sum = 4      # n of L0 sum from the max\n",
    "maxp = 1         # prob of choosing n_max\n",
    "\n",
    "g = np.shape(sce.X)[1] #no of total genes\n",
    "m = ncch         # n of composite channels \n",
    "n = (1,2)        # [min,max] of channels per gene\n",
    "d_thresh = 0.8   # distance threshold per gene\n",
    "\n",
    "L0sum_max = n[1]*g\n",
    "L0sum_min = n[1]*g-n_L0sum+1\n",
    "print(\"Random {} As with L0sum between {} and {}. {} genes into {} channels, max {} channels per gene\".format(\n",
    "    n_A_each*n_L0sum, L0sum_min,L0sum_max, g, m, n[1]))"
   ]
  },
  {
   "cell_type": "code",
   "execution_count": 10,
   "id": "d50c8be6",
   "metadata": {},
   "outputs": [],
   "source": [
    "# Set params for simulatinbg A \n",
    "nsr = 0   \n",
    "ldaW_dc = 0.002"
   ]
  },
  {
   "cell_type": "markdown",
   "id": "c0d603a5",
   "metadata": {},
   "source": [
    "## Round 1\n",
    "4-fold simluaiton using 75% of cells for training U with finalized SMAF parameters and 25% of cells for simulating decpompression with 2000 random As each fold. Selected 50 As with best \"minimum protein correlation\" for each fold. In total 200 As were selected."
   ]
  },
  {
   "cell_type": "code",
   "execution_count": 11,
   "id": "4ac05f31",
   "metadata": {
    "scrolled": true
   },
   "outputs": [
    {
     "name": "stdout",
     "output_type": "stream",
     "text": [
      "Random 20 As with L0sum between 29 and 32. 16 genes into 9 channels, max 2 channels per gene\n",
      "16 6\n",
      "Initialized U, W with NMF, SMAF maxItr =  5\n"
     ]
    },
    {
     "name": "stderr",
     "output_type": "stream",
     "text": [
      "/home/ubuntu/miniconda3/envs/test_cisi_imc_env/lib/python3.10/site-packages/scipy/spatial/distance.py:622: RuntimeWarning: invalid value encountered in double_scalars\n",
      "  dist = 1.0 - uv / np.sqrt(uu * vv)\n"
     ]
    },
    {
     "name": "stdout",
     "output_type": "stream",
     "text": [
      "Random 20 As with L0sum between 29 and 32. 16 genes into 9 channels, max 2 channels per gene\n",
      "10 2\n",
      "Initialized U, W with NMF, SMAF maxItr =  5\n"
     ]
    },
    {
     "name": "stderr",
     "output_type": "stream",
     "text": [
      "/home/ubuntu/miniconda3/envs/test_cisi_imc_env/lib/python3.10/site-packages/scipy/spatial/distance.py:622: RuntimeWarning: invalid value encountered in double_scalars\n",
      "  dist = 1.0 - uv / np.sqrt(uu * vv)\n"
     ]
    },
    {
     "name": "stdout",
     "output_type": "stream",
     "text": [
      "Random 20 As with L0sum between 29 and 32. 16 genes into 9 channels, max 2 channels per gene\n",
      "10 5\n",
      "Initialized U, W with NMF, SMAF maxItr =  5\n",
      "Random 20 As with L0sum between 29 and 32. 16 genes into 9 channels, max 2 channels per gene\n",
      "25 5\n",
      "Initialized U, W with NMF, SMAF maxItr =  5\n"
     ]
    }
   ],
   "source": [
    "## Round 1\n",
    "\n",
    "# select 50 As out of 2000As for 4 fold -> 200 selected As\n",
    "n_fold = 4\n",
    "n_bestAs_perfold = 1#50\n",
    "# Fold_ID list for Random subseting training data into n_fold \n",
    "fold_id_list = np.random.permutation(np.repeat(np.arange(n_fold), int(sce.shape[0]/n_fold)+1)[:sce.shape[0]])\n",
    "# initialize summary result\n",
    "sum_res_U = []\n",
    "sum_res_A = []\n",
    "# to store selected As\n",
    "best_Phi_r1 = []\n",
    "\n",
    "for fold_id in range(n_fold):\n",
    "    # Produce random As\n",
    "    Phi = produce_random_As(n_A_each=n_A_each, n_L0sum=n_L0sum, m=m , n=n, d_thresh=d_thresh, g=g)\n",
    "    # save As\n",
    "    np.save(os.path.join(A_path,\"Phi_{:d}.npy\".format(fold_id)),np.array(Phi))\n",
    "    # subset into training U and A\n",
    "    X_trainingU = sce[fold_id_list != fold_id]\n",
    "    X_trainingA = sce[fold_id_list == fold_id]\n",
    "    # calc U\n",
    "    U,W,X = smaf(X_trainingU,d,maxItr,methodW,ldaU, ldaW=ldaW, THREADS=nthread,  X_normalization='paper_norm',\n",
    "              num_blocks_W=nblocksW_lasso, num_blocks_U=1, layer=None, Normalize_U=True, saveItr=False) \n",
    "    # get SMAF results\n",
    "    res_U, coln_U = analyse_U_W(U, W, X)\n",
    "    sum_res_U.append(res_U)\n",
    "    # save U \n",
    "    pd.DataFrame(U, columns=list(range(1, U.shape[1]+1)),index=sce.var_names).to_csv(\n",
    "        os.path.join(U_path, 'U_r1_fold{:d}.csv'.format(fold_id)))\n",
    "    # initialize Mincorr per fold, this is used for selcting best As (minimum protein correlation)\n",
    "    Mincorr = np.array([])\n",
    "    # simulate As\n",
    "    for phi_id, phi in enumerate(Phi):        \n",
    "        X, Xhat, W, Y = simulate_A(X_trainingA, U, phi, nsr, decoding_lasso_lda = ldaW_dc,\n",
    "                             outpath=None, THREADS=-1, layer=None, num_blocks=20)\n",
    "        # get simulation results\n",
    "        res_A, coln_A, detail_A = analyse_decoding(phi,U,W,X,Xhat, name=\"\", detail=True)\n",
    "        res_A.extend([fold_id,phi_id])\n",
    "        coln_A.extend([\"fold_id\", \"A_id\"])\n",
    "        sum_res_A.append(res_A)\n",
    "        # second input of res_A is the minimum protein correlation\n",
    "        Mincorr = np.append(Mincorr,res_A[1])\n",
    "        # this is for printing\n",
    "        if (phi_id+1)%100 == 0:\n",
    "            idx = np.argsort(Mincorr)  # get sorted index\n",
    "            best5 = Mincorr[idx[-5:][::-1]] # Best 5\n",
    "            print(\"current fold:{}, phi_id: {}, top5 mincorr:\".format(fold_id, phi_id) ,['{:.3f}'.format(e) for e in best5])\n",
    "    # select best 50 As per fold\n",
    "    best_Phi_r1.extend(list(np.array(Phi)[np.argsort(Mincorr)[-n_bestAs_perfold:],:,:]))\n",
    "\n"
   ]
  },
  {
   "cell_type": "markdown",
   "id": "1ca1796a",
   "metadata": {},
   "source": [
    "## save results for round 1"
   ]
  },
  {
   "cell_type": "code",
   "execution_count": 12,
   "id": "f17caab1",
   "metadata": {},
   "outputs": [],
   "source": [
    "# Transform U results into DF\n",
    "df = pd.DataFrame(sum_res_U)\n",
    "df.columns = coln_U\n",
    "# save U results as csv\n",
    "df.to_csv(path_or_buf=os.path.join(out_path, 'R1_result_U.csv'))\n",
    "\n",
    "\n",
    "# Transform A results into DF\n",
    "df = pd.DataFrame(sum_res_A)\n",
    "df.columns = coln_A\n",
    "\n",
    "# save A results as csv\n",
    "df.to_csv(path_or_buf=os.path.join(out_path, 'R1_result_A.csv'))\n",
    "\n",
    "\n",
    "# save bets Phi for round 1\n",
    "np.save(os.path.join(A_path, 'best_Phi_r1.npy'),np.array(best_Phi_r1))  "
   ]
  },
  {
   "cell_type": "markdown",
   "id": "39012614",
   "metadata": {},
   "source": [
    "## Round 2\n",
    "\n",
    "Another 4-fold simulation with fixed 200As from st round. each A's performance was simulated 4-fold, so its mean performance (\"minimum protein correlation\") over 4-fold experments was used for selecting the best A."
   ]
  },
  {
   "cell_type": "code",
   "execution_count": 13,
   "id": "6742ebe4",
   "metadata": {
    "scrolled": false
   },
   "outputs": [
    {
     "name": "stdout",
     "output_type": "stream",
     "text": [
      "Initialized U, W with NMF, SMAF maxItr =  5\n"
     ]
    },
    {
     "name": "stderr",
     "output_type": "stream",
     "text": [
      "/home/ubuntu/miniconda3/envs/test_cisi_imc_env/lib/python3.10/site-packages/scipy/spatial/distance.py:622: RuntimeWarning: invalid value encountered in double_scalars\n",
      "  dist = 1.0 - uv / np.sqrt(uu * vv)\n"
     ]
    },
    {
     "name": "stdout",
     "output_type": "stream",
     "text": [
      "Initialized U, W with NMF, SMAF maxItr =  5\n"
     ]
    },
    {
     "name": "stderr",
     "output_type": "stream",
     "text": [
      "/home/ubuntu/miniconda3/envs/test_cisi_imc_env/lib/python3.10/site-packages/scipy/spatial/distance.py:622: RuntimeWarning: invalid value encountered in double_scalars\n",
      "  dist = 1.0 - uv / np.sqrt(uu * vv)\n"
     ]
    },
    {
     "name": "stdout",
     "output_type": "stream",
     "text": [
      "Initialized U, W with NMF, SMAF maxItr =  5\n"
     ]
    },
    {
     "name": "stderr",
     "output_type": "stream",
     "text": [
      "/home/ubuntu/miniconda3/envs/test_cisi_imc_env/lib/python3.10/site-packages/scipy/spatial/distance.py:622: RuntimeWarning: invalid value encountered in double_scalars\n",
      "  dist = 1.0 - uv / np.sqrt(uu * vv)\n"
     ]
    },
    {
     "name": "stdout",
     "output_type": "stream",
     "text": [
      "Initialized U, W with NMF, SMAF maxItr =  5\n"
     ]
    },
    {
     "name": "stderr",
     "output_type": "stream",
     "text": [
      "/home/ubuntu/miniconda3/envs/test_cisi_imc_env/lib/python3.10/site-packages/scipy/spatial/distance.py:622: RuntimeWarning: invalid value encountered in double_scalars\n",
      "  dist = 1.0 - uv / np.sqrt(uu * vv)\n"
     ]
    }
   ],
   "source": [
    "## Round 2\n",
    "\n",
    "# select the best A out of 200As for 4 fold \n",
    "n_fold = 4\n",
    "# Fold_ID list for Random subseting training data into n_fold \n",
    "fold_id_list = np.random.permutation(np.repeat(np.arange(n_fold), int(sce.shape[0]/n_fold)+1)[:sce.shape[0]])\n",
    "# initialize summary result\n",
    "sum_res_U = []\n",
    "sum_res_A = []\n",
    "\n",
    "# now each A has 4-fold simulation so Mincorr has to be (n_fold x n_As)\n",
    "Mincorr_arr = np.zeros((n_fold, len(best_Phi_r1)))\n",
    "\n",
    "for fold_id in range(n_fold):\n",
    "    # subset into training U and A\n",
    "    X_trainingU = sce[fold_id_list != fold_id]\n",
    "    X_trainingU = X_trainingU[X_trainingU.obs.CISImarker == 'pos',:] # remove CISI_negative cells for trainingU\n",
    "    X_trainingA = sce[fold_id_list == fold_id]\n",
    "    # calc U\n",
    "    U,W,X = smaf(X_trainingU,d,maxItr,methodW,ldaU, ldaW=ldaW, THREADS=nthread,  X_normalization='paper_norm',\n",
    "              num_blocks_W=nblocksW_lasso, num_blocks_U=1, layer=None, Normalize_U=True, saveItr=False) \n",
    "    # get SMAF results\n",
    "    res_U, coln_U = analyse_U_W(U, W, X)\n",
    "    sum_res_U.append(res_U)\n",
    "    # save U \n",
    "    pd.DataFrame(U, columns=list(range(1, U.shape[1]+1)),index=sce.var_names).to_csv(\n",
    "        os.path.join(U_path, 'U_r2_fold{:d}.csv'.format(fold_id)))\n",
    "    # initialize Mincorr per fold. this is for printing only. Micorr_arr is the one used for selecting best A\n",
    "    Mincorr = np.array([])\n",
    "    # simulate As\n",
    "    for phi_id, phi in enumerate(best_Phi_r1):        \n",
    "        X, Xhat, W, Y = simulate_A(X_trainingA, U, phi, nsr, decoding_lasso_lda = ldaW_dc,\n",
    "                             outpath=None, THREADS=-1, layer=None, num_blocks=20)\n",
    "        # get simulation results\n",
    "        res_A, coln_A, detail_A = analyse_decoding(phi,U,W,X,Xhat, name=\"\", detail=True)\n",
    "        res_A.extend([fold_id,phi_id])\n",
    "        coln_A.extend([\"fold_id\", \"A_id\"])\n",
    "        sum_res_A.append(res_A)\n",
    "        # update Mincorr_arr (used for selecting best A)\n",
    "        Mincorr_arr[fold_id,phi_id] = res_A[1]\n",
    "        # for printing\n",
    "        Mincorr = np.append(Mincorr,res_A[1])     \n",
    "        if (phi_id+1)%100 == 0:\n",
    "            idx = np.argsort(Mincorr)  # get sorted index\n",
    "            best5 = Mincorr[idx[-5:][::-1]] # Best 5\n",
    "            print(\"current fold:{}, phi_id: {}, top5 mincorr:\".format(fold_id, phi_id) ,['{:.3f}'.format(e) for e in best5])\n",
    "    # select best A\n",
    "    mean_mincorr = np.mean(Mincorr_arr, axis = 0) # get mean Mincorr over 4-fold for each A\n",
    "    best_phi = best_Phi_r1[np.argmax(mean_mincorr)] # best mean Mincorr is selected\n"
   ]
  },
  {
   "cell_type": "markdown",
   "id": "af91b26c",
   "metadata": {},
   "source": [
    "## save results for round 2"
   ]
  },
  {
   "cell_type": "code",
   "execution_count": 14,
   "id": "1151da36",
   "metadata": {},
   "outputs": [],
   "source": [
    "# Transform U results into DF\n",
    "df = pd.DataFrame(sum_res_U)\n",
    "df.columns = coln_U\n",
    "# save U results as csv\n",
    "df.to_csv(path_or_buf=os.path.join(out_path, 'R2_result_U.csv'))\n",
    "\n",
    "\n",
    "# Transform A results into DF\n",
    "df = pd.DataFrame(sum_res_A)\n",
    "df.columns = coln_A\n",
    "\n",
    "# save A results as csv\n",
    "df.to_csv(path_or_buf=os.path.join(out_path, 'R2_result_A.csv'))\n",
    "\n",
    "\n",
    "# save bets A for round 2\n",
    "np.save(os.path.join(A_path, 'best_phi_id_{}.npy'.format(np.argmax(mean_mincorr))),np.array(best_phi))  \n",
    "# save also as csv\n",
    "best_phi_df = pd.DataFrame(best_phi)\n",
    "best_phi_df.columns = sce.var.index\n",
    "best_phi_df.to_csv(path_or_buf=os.path.join(A_path, 'best_phi_id_{}.csv'.format(np.argmax(mean_mincorr))))"
   ]
  },
  {
   "cell_type": "code",
   "execution_count": null,
   "id": "4e4777a0",
   "metadata": {},
   "outputs": [],
   "source": []
  }
 ],
 "metadata": {
  "kernelspec": {
   "display_name": "test_cisi_imc_env",
   "language": "python",
   "name": "test_cisi_imc_env"
  },
  "language_info": {
   "codemirror_mode": {
    "name": "ipython",
    "version": 3
   },
   "file_extension": ".py",
   "mimetype": "text/x-python",
   "name": "python",
   "nbconvert_exporter": "python",
   "pygments_lexer": "ipython3",
   "version": "3.10.9"
  }
 },
 "nbformat": 4,
 "nbformat_minor": 5
}
